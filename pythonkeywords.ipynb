{
 "cells": [
  {
   "cell_type": "markdown",
   "id": "723a6a0d-9b37-4575-8f3b-4518384eaa27",
   "metadata": {},
   "source": [
    " 1.Explain the significance of Python keywords and provide examples of five keywords .\n",
    "\n",
    "Ans.  In Python keywords are predefined words which only Python reads. These keywords are reserved and cannot be redefined or modified. Keywords in Python cannot be used as variable. They provide a consistent structure to python programs and enhance readability and maintainability. \n",
    "Here are some examples of python keywords:\n",
    "-“Print keyword”\n",
    "                         print(“Hi Kaushar”)\n",
    "                         Output-  Hi Kaushar\n",
    "-‘Type’ keyword- to know the type of data   \n",
    "Example - a = '1.21'\n",
    "type(a)\n",
    "Output- str (string) \n",
    "-‘input’  keyword - if we want  some data from console directly\n",
    "Example -  name = input('please enter your name: ')\n",
    "Print(name) \n",
    "Output - please enter your name _________\n",
    "-‘bin’ keyword - to know the binary value of any number\n",
    "Example - num = 24 \n",
    "Binary_value = bin(num)\n",
    "print(Binary_value)\n",
    "Output -  0b11000\n",
    "-‘Int’ keyword - to change from one data type to integer (string cannot be changed into integer) \n",
    "Example- num = “98”\n",
    "type(num) \n",
    "Output - str i.e., string \n",
    "Integer_value = int(num)\n",
    "print(integer_value)\n",
    "Output - 98 \n",
    "type(integer_value)\n",
    "Output - int    i.e., integer\n"
   ]
  },
  {
   "cell_type": "markdown",
   "id": "a1c33d31-f90f-4f53-8122-5eb36f7d1a7f",
   "metadata": {},
   "source": [
    "2.Describe the rules for defining identifiers in Python and provide an example.\n",
    "\n",
    "Ans. Identifiers are names that are used to identify variables, functions name, class name and other objects. Following are the rules for defining identifiers:\n",
    "-Python keywords that are reserved words cannot be used as an identifier, as it will throw an error. For Example-  print = \"kaushar\"  (here i’m assigning print as a value which actually is a keyword )\n",
    "Output - ‘kaushar’\n",
    "But if we want to execute, num = 123\n",
    "print(num)\n",
    "Output -  error (object is not callable)\n",
    "-Identifiers can contain lowercase (a-z) or an uppercase (A-Z).\n",
    "-remaining characters can be letters, digits(0-9) or underscores( _ ).\n",
    "-Identifiers are case-sensitive. For instance, abc and ABC are considered to be distinct identifiers.\n",
    "-Identifiers cannot start with digits e.g, 01jus - invalid identifier\n",
    "-Identifiers cannot start with special characters except underscore. E.g., @kaush - invalid identifier.\n",
    "-Examples of valid or invalid identifiers- \n",
    "Valid identifiers-\n",
    "let234 => contain only letter or number\n",
    "LeT_234 => contain letters, underscore or number\n",
    "_kaushar => starts with an underscore.\n",
    "Invalid identifiers-\n",
    "123 => cannot consist only digits\n",
    "4hen => cannot start with digit\n",
    "a-b => cannot consist of any special character.\n"
   ]
  },
  {
   "cell_type": "markdown",
   "id": "6ad39558-ed35-4f68-ada1-7380398c3752",
   "metadata": {},
   "source": [
    "3.What are comments in Python, and why are they useful? Provide an example.\n",
    "\n",
    "Ans. In python, comments are text within the code that are ignored when the program runs. They are used to explain the purpose of code, provide context and explanations for both individual lines of code or blocks of code. It helps other developers to understand the code’s functionality and make it easier to maintain and modify in future.# is used to add comments in the code block itself without using markdown.\n",
    "\n",
    "Single- line comment- start with # symbol. \n",
    " #I am assigning var value 20 >>> this is called a one liner comment.\n",
    "\n",
    "Multi-line comment -                 #I'm Kaushar Ansari\n",
    "#learning data science\n",
    "#from pw skills.\n",
    "\n",
    "Doc string comment-   use triple-quoted strings (“”” ) for multi-line comment. \n",
    "\"\"\"\n",
    "this is\n",
    "a multiline\n",
    "comment   \n",
    "\"\"\"\n",
    "example - x = 22    #explaining the value assigned to variable x\n",
    "y =  44   #comment for variable y\n",
    "Sum _res =  x+y   #calculates the sum of x and y.\n"
   ]
  },
  {
   "cell_type": "markdown",
   "id": "03d76a5a-06e6-4c40-b2a9-f1dcce1e2292",
   "metadata": {},
   "source": [
    "4.Why is proper indentation important in Python?\n",
    "\n",
    "Ans.  Python through indentation knows which line belongs together and how it is working. In python, proper indentation is essential for maintaining code readability, enforcing syntax rules, defining scope and promoting consistency. Python uses 4 spaces as default indentation. Proper indentation not only avoids errors but makes code more elegant. \n",
    "Example-  if 3>2: \n",
    " print(\"greater\")\n",
    "Output - greater\n",
    "\n",
    "j = 1\n",
    "while j <= 5:\n",
    "    print(j)\n",
    "    j += 1\n",
    "Output - 1\n",
    "2\n",
    "3\n",
    "4\n",
    "5\n"
   ]
  },
  {
   "cell_type": "markdown",
   "id": "a9797eab-b913-4619-8e16-d841abe32a5f",
   "metadata": {},
   "source": [
    "5.What happens if indentation is incorrect in Python?\n",
    "\n",
    "Ans. Incorrect indentation in python can result in syntax errors, scope issues, logical errors, readability  problems, compilation errors, debugging challenges, negatively impacting the functionality and maintainability of the code. When the number of spaces or tab at the beginning of the code block does not match the expected pattern, python raises an IndentationError. Incorrect indentation can lead to misplaced code blocks, this affects the logic of the program and can cause unexpected results. Incorrect indentation can introduce logical errors even if code compiles without errors. Poorly indented code is challenging to read and maintain."
   ]
  },
  {
   "cell_type": "markdown",
   "id": "3b6765b5-19ea-44cf-81fe-d060e828242f",
   "metadata": {},
   "source": [
    "6.Differentiate between expression and statement in Python with examples.\n",
    "\n",
    "Ans.  Expression- An expression evaluates  to a value. It can be simple as a single value or involve complex operations. It is a combination of values, variables, function calls and operators. \n",
    "a=3\n",
    "b=4\n",
    "a+b   #expression statement.\n",
    "Output - 7\n",
    "5+9 (evaluates to 14).\n",
    "x*y (evaluates to the product of x and y).\n",
    "Expressions can be part of a statement but not all statements are expressions.\n",
    "\n",
    "Statement -  A statement is a line or multiple lines that performs an action. \n",
    "Examples of statements- \n",
    "Assignment statement —       x = 4 (here assigning the value 4 to the variable x)\n",
    "\n",
    "Conditional statement — #if-else\n",
    "  x = 10\n",
    "if x > 6 :\n",
    "    print(\"x is greater than 6\")\n",
    "else:\n",
    "    print(\"x is smaller than 6\")\n",
    "Output-  x is greater than 6\n",
    "\n",
    "#if-elif-else\n",
    "a = 10 \n",
    "if a > 100:\n",
    "    print(\"the number will execute\")\n",
    "elif a< 100:\n",
    "    print(\"the number is smaller than 100\")\n",
    "else:\n",
    "    print(\"the number is equals to 100\")\n",
    "Output - the number is smaller than 100\n"
   ]
  }
 ],
 "metadata": {
  "kernelspec": {
   "display_name": "Python 3 (ipykernel)",
   "language": "python",
   "name": "python3"
  },
  "language_info": {
   "codemirror_mode": {
    "name": "ipython",
    "version": 3
   },
   "file_extension": ".py",
   "mimetype": "text/x-python",
   "name": "python",
   "nbconvert_exporter": "python",
   "pygments_lexer": "ipython3",
   "version": "3.10.8"
  }
 },
 "nbformat": 4,
 "nbformat_minor": 5
}
